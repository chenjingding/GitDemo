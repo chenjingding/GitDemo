{
 "cells": [
  {
   "cell_type": "code",
   "execution_count": null,
   "id": "2f2530a3-1856-4b05-a688-4fb4d40a9616",
   "metadata": {},
   "outputs": [],
   "source": [
    "# 1. 导入必要的库  \n",
    "import gensim  \n",
    "from gensim.models import Word2Vec  \n",
    "import numpy as np  \n",
    "import logging  \n",
    "\n",
    "# 设置日志  \n",
    "logging.basicConfig(format='%(asctime)s : %(levelname)s : %(message)s', level=logging.INFO)  \n",
    "# 2. 准备数据  \n",
    "# 示例数据集，您可以使用自己的数据集  \n",
    "sentences = [  \n",
    "    ['环境', '优雅', '美食', '好吃', '舒适'],  \n",
    "    ['餐厅', '氛围', '安静', '聚会'],  \n",
    "    ['蟑螂', '肮脏', '食物', '味道'],  \n",
    "    ['好吃', '美味', '佳肴'],  \n",
    "]  \n",
    "\n",
    "# 3. 训练 Word2Vec 模型（使用 Skip-Gram）  \n",
    "word2vec_model = Word2Vec(sentences, vector_size=100, window=5, min_count=1, sg=1)  \n",
    "\n",
    "# 输出模型训练完成的消息  \n",
    "print(\"Word2Vec Skip-Gram模型训练完成。\")  "
   ]
  }
 ],
 "metadata": {
  "kernelspec": {
   "display_name": "Python 3 (ipykernel)",
   "language": "python",
   "name": "python3"
  },
  "language_info": {
   "codemirror_mode": {
    "name": "ipython",
    "version": 3
   },
   "file_extension": ".py",
   "mimetype": "text/x-python",
   "name": "python",
   "nbconvert_exporter": "python",
   "pygments_lexer": "ipython3",
   "version": "3.9.21"
  }
 },
 "nbformat": 4,
 "nbformat_minor": 5
}
