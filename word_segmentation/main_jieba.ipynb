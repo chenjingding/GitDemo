{
 "cells": [
  {
   "cell_type": "markdown",
   "id": "5d2f610f-8db6-476d-a7ad-3c495817a659",
   "metadata": {},
   "source": [
    "# 结巴分词实践"
   ]
  },
  {
   "cell_type": "code",
   "execution_count": 5,
   "id": "6e8c86fc-bd6a-4cd7-a2af-2b02394a3189",
   "metadata": {},
   "outputs": [
    {
     "name": "stdout",
     "output_type": "stream",
     "text": [
      "我要|自然语言|处理\n"
     ]
    }
   ],
   "source": [
    "import jieba\n",
    "text = \"我要自然语言处理\"\n",
    "seg_list = jieba.cut(text)\n",
    "print(\"|\".join(seg_list))"
   ]
  },
  {
   "cell_type": "markdown",
   "id": "8f02218c-6cd6-4b53-b6df-29da1ced3f42",
   "metadata": {},
   "source": [
    "## 结巴分词的三种模式"
   ]
  },
  {
   "cell_type": "code",
   "execution_count": 2,
   "id": "c941d326-da11-4a26-a5c3-66d129fa8ed7",
   "metadata": {},
   "outputs": [
    {
     "name": "stdout",
     "output_type": "stream",
     "text": [
      "马婕|正在|研究|自然语言处理\n"
     ]
    }
   ],
   "source": [
    "import jieba\n",
    "\n",
    "# 加载自定义词典（确保路径正确！）\n",
    "jieba.load_userdict(\"userdict.txt\")  # 若文件在其他路径，需写绝对路径如 \"./data/userdict.txt\"\n",
    "\n",
    "# 测试分词\n",
    "text = \"马婕正在研究自然语言处理\"\n",
    "seg_list = jieba.cut(text)\n",
    "print(\"|\".join(seg_list))"
   ]
  },
  {
   "cell_type": "markdown",
   "id": "e1633a0a-9018-43ec-ab78-a5a3b12661aa",
   "metadata": {},
   "source": [
    "### 精确模式"
   ]
  },
  {
   "cell_type": "code",
   "execution_count": 3,
   "id": "92f4ed74-0b25-4900-ae1f-a630f983a455",
   "metadata": {},
   "outputs": [
    {
     "name": "stdout",
     "output_type": "stream",
     "text": [
      "精确模式分词结果： 我|喜欢|上|自然语言处理\n"
     ]
    }
   ],
   "source": [
    "import jieba\n",
    "\n",
    "# 精确模式（默认模式）\n",
    "text = \"我喜欢上自然语言处理\"\n",
    "seg_list = jieba.cut(text, cut_all=False)\n",
    "print(\"精确模式分词结果：\", \"|\".join(seg_list))"
   ]
  },
  {
   "cell_type": "markdown",
   "id": "879a3563-a04d-4c5f-95ec-5a4bc39b93f2",
   "metadata": {},
   "source": [
    "### 全模式"
   ]
  },
  {
   "cell_type": "code",
   "execution_count": 4,
   "id": "0c8f466f-adda-4d60-8d9e-a8044e3002e6",
   "metadata": {},
   "outputs": [
    {
     "name": "stdout",
     "output_type": "stream",
     "text": [
      "全模式分词结果： 我|喜欢|上自|自然|自然语言|自然语言处理|语言|处理\n"
     ]
    }
   ],
   "source": [
    "# 全模式（切出所有可能词语）\n",
    "text = \"我喜欢上自然语言处理\"\n",
    "seg_list = jieba.cut(text, cut_all=True)\n",
    "print(\"全模式分词结果：\", \"|\".join(seg_list))"
   ]
  },
  {
   "cell_type": "markdown",
   "id": "ffc4f5b9-7e49-42c1-a31c-fbb2e7ff4ef5",
   "metadata": {},
   "source": [
    "### 搜索引擎模式"
   ]
  },
  {
   "cell_type": "code",
   "execution_count": 5,
   "id": "d1a204dc-1236-4b68-a1db-066a44e7fc6d",
   "metadata": {},
   "outputs": [
    {
     "name": "stdout",
     "output_type": "stream",
     "text": [
      "搜索引擎模式分词结果： 小明|硕士|毕业|于|广州|城市|理工|工大|大学|理工大|理工大学|，|后|在|华南|理工|工大|大学|南理工|理工大|华南理工大学|深造\n"
     ]
    }
   ],
   "source": [
    "# 搜索引擎模式（对长词再切分）\n",
    "text = \"小明硕士毕业于广州城市理工大学，后在华南理工大学深造\"\n",
    "seg_list = jieba.cut_for_search(text)\n",
    "print(\"搜索引擎模式分词结果：\", \"|\".join(seg_list))"
   ]
  },
  {
   "cell_type": "markdown",
   "id": "668e8f43-d67e-42c3-9cec-54e6df007f98",
   "metadata": {},
   "source": [
    "## 载入词典"
   ]
  },
  {
   "cell_type": "code",
   "execution_count": 2,
   "id": "dd001545-9941-429b-8fa1-ef10c56f65f1",
   "metadata": {},
   "outputs": [
    {
     "name": "stdout",
     "output_type": "stream",
     "text": [
      "分词结果： 马婕|即将|是|自然语言|处理|方面|的|高手|。\n"
     ]
    }
   ],
   "source": [
    "import jieba\n",
    "\n",
    "# 动态添加用户姓名到词典（替换\"***\"为你的真实姓名）\n",
    "your_name = \"马婕\"  # 示例姓名，请修改为你的真实姓名\n",
    "jieba.add_word(your_name, freq=10000, tag='nr')  # 高频确保优先切分\n",
    "\n",
    "# 使用精确模式且关闭HMM新词发现\n",
    "sentence = f\"{your_name}即将是自然语言处理方面的高手。\"\n",
    "seg_list = jieba.cut(sentence, HMM=False)\n",
    "\n",
    "print(\"分词结果：\", \"|\".join(seg_list))"
   ]
  },
  {
   "cell_type": "markdown",
   "id": "f8dd3895-352a-4089-b174-9163c70f2826",
   "metadata": {},
   "source": [
    "### 关键词提取实践"
   ]
  },
  {
   "cell_type": "code",
   "execution_count": 4,
   "id": "88c49b07-86ff-44e1-adbc-5786daa41f08",
   "metadata": {},
   "outputs": [
    {
     "name": "stdout",
     "output_type": "stream",
     "text": [
      "Top-5关键词： ['重点', '大学', '国家', '河北省', '共建']\n"
     ]
    }
   ],
   "source": [
    "import jieba.analyse\n",
    "\n",
    "# 原始文本\n",
    "text = \"燕山大学是河北省人民政府、教育部、工业和信息化部、国家国防科技工业局四方共建的全国重点大学，河北省重点支持的国家一流大学和世界一流学科建设高校，北京高科大学联盟成员。\"\n",
    "\n",
    "# 使用TextRank算法提取top5关键词（不显示权重）\n",
    "keywords = jieba.analyse.textrank(text, topK=5, withWeight=False)\n",
    "\n",
    "print(\"Top-5关键词：\", keywords)"
   ]
  }
 ],
 "metadata": {
  "kernelspec": {
   "display_name": "Python 3 (ipykernel)",
   "language": "python",
   "name": "python3"
  },
  "language_info": {
   "codemirror_mode": {
    "name": "ipython",
    "version": 3
   },
   "file_extension": ".py",
   "mimetype": "text/x-python",
   "name": "python",
   "nbconvert_exporter": "python",
   "pygments_lexer": "ipython3",
   "version": "3.9.21"
  }
 },
 "nbformat": 4,
 "nbformat_minor": 5
}
